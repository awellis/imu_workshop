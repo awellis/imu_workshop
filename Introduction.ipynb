{
 "cells": [
  {
   "cell_type": "code",
   "execution_count": 1,
   "metadata": {
    "collapsed": true,
    "internals": {
     "slide_helper": "subslide_end",
     "slide_type": "subslide"
    },
    "slide_helper": "slide_end",
    "slideshow": {
     "slide_type": "slide"
    }
   },
   "outputs": [],
   "source": [
    "using Distributions"
   ]
  }
 ],
 "metadata": {
  "kernelspec": {
   "display_name": "Julia",
   "name": "julia"
  },
  "language_info": {
   "name": "julia",
   "version": "0.3.3"
  },
  "signature": "sha256:d1e75b6fdf6ee77def81ce905d94d5409f9a1bd32c3d0b5266919b64f26e4ad1"
 },
 "nbformat": 4,
 "nbformat_minor": 0
}