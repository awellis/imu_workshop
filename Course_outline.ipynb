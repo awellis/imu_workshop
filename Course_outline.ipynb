{
 "cells": [
  {
   "cell_type": "markdown",
   "metadata": {},
   "source": [
    "# Course outline"
   ]
  },
  {
   "cell_type": "markdown",
   "metadata": {},
   "source": [
    "## Day one:"
   ]
  },
  {
   "cell_type": "markdown",
   "metadata": {},
   "source": [
    "1) [Introduction to Bayesian statistics](Introduction.ipynb)\n",
    "\n",
    "2) Software\n",
    "    - Jasp\n",
    "    - Jags, Stan\n",
    "    - R, Python, Julia\n",
    "\n",
    "3) Using Jasp\n",
    "    - t-Test\n",
    "    - Anova\n",
    "\n",
    "4) Using Jags\n",
    "    - coin flip example"
   ]
  },
  {
   "cell_type": "markdown",
   "metadata": {},
   "source": [
    "## Day two:"
   ]
  },
  {
   "cell_type": "markdown",
   "metadata": {},
   "source": [
    "1) Using Jags cont'd\n",
    "\n",
    "2) Linear regression\n",
    "\n",
    "3) Robust linear regression\n",
    "\n",
    "4) Coin flip cont'd"
   ]
  },
  {
   "cell_type": "code",
   "execution_count": null,
   "metadata": {
    "collapsed": true
   },
   "outputs": [],
   "source": []
  }
 ],
 "metadata": {
  "kernelspec": {
   "display_name": "Julia",
   "name": "julia"
  },
  "language_info": {
   "name": "julia",
   "version": "0.3.3"
  },
  "signature": "sha256:d5d75ae3122f73438e01a2b99f9a6a1ba9ad2719f7b91d10c5ceb15e3bddcc73"
 },
 "nbformat": 4,
 "nbformat_minor": 0
}