{
 "cells": [
  {
   "cell_type": "markdown",
   "metadata": {},
   "source": [
    "# Practise session\n",
    "\n",
    "I think at this point it's best to start learning by doing, so I would:\n",
    "\n",
    "- explore the BayesFactor package functions:\n",
    " - how do you call them?\n",
    " - what arguments do the function take? For example, you can call the ttestBF() function using either x and y as groups, or you can use the formula notation.\n",
    "     \n",
    "\n",
    "\n",
    "- go through the BayesFactor help files in RStudio, picking out anything you find interesting.\n",
    "\n",
    "\n",
    "- read Richard Morey's blog. His posts there are generally excellent, and you can copy/paste the R code into the R command line to try everythin out yourself."
   ]
  },
  {
   "cell_type": "markdown",
   "metadata": {},
   "source": [
    "## Bayesian t test\n",
    "\n",
    "If you want to read more about Bayesian t-tests, I suggest you start with these two excellent blog posts by Richard Morey:\n",
    "\n",
    "[Bayes factor t tests, part 1](http://bayesfactor.blogspot.co.uk/2014/02/bayes-factor-t-tests-part-1.html)\n",
    "\n",
    "[Bayes factor t tests, part 2: Two-sample tests](http://bayesfactor.blogspot.co.uk/2014/02/bayes-factor-t-tests-part-2-two-sample.html)"
   ]
  },
  {
   "cell_type": "markdown",
   "metadata": {},
   "source": [
    "## ANOVA\n",
    "\n",
    "For further info on Bayesian ANOVAs, I recommend that you read these two blog posts:\n",
    "\n",
    "[Multiple Comparisons with BayesFactor, Part 1](http://bayesfactor.blogspot.co.uk/2015/01/multiple-comparisons-with-bayesfactor-1.html)\n",
    "\n",
    "[Multiple Comparisons with BayesFactor, Part 2 - order restrictions](http://bayesfactor.blogspot.co.uk/2015/01/multiple-comparisons-with-bayesfactor-2.html)"
   ]
  }
 ],
 "metadata": {
  "kernelspec": {
   "display_name": "R",
   "language": "",
   "name": "ir"
  },
  "language_info": {
   "codemirror_mode": "r",
   "file_extension": ".r",
   "mimetype": "text/x-r-source",
   "name": "R",
   "pygments_lexer": "r"
  }
 },
 "nbformat": 4,
 "nbformat_minor": 0
}
