{
 "cells": [
  {
   "cell_type": "markdown",
   "metadata": {},
   "source": [
    "## Inferring the mean of a Normal distribution"
   ]
  },
  {
   "cell_type": "markdown",
   "metadata": {},
   "source": [
    "For this example, we will try to estimate the mean of a normally distributed random variable. To keep things simple, we will assume that we know the variance. This would make sense, if for example our data were IQ measurements, and we can assume that this trait has a standard deviation of 15.\n",
    "\n",
    "As before, we will first work with randomly generated data:"
   ]
  },
  {
   "cell_type": "code",
   "execution_count": 5,
   "metadata": {
    "collapsed": false
   },
   "outputs": [
    {
     "data": {
      "text/plain": [
       " [1] 126 112 118 114 152 120 135 110 121 108"
      ]
     },
     "execution_count": 5,
     "metadata": {},
     "output_type": "execute_result"
    }
   ],
   "source": [
    "# this makes sure we get the same random numbers every time\n",
    "set.seed(34522)\n",
    "\n",
    "n <- 20\n",
    "y <- round(rnorm(n = n, mean = 120, sd = 15))\n",
    "head(y, 10)"
   ]
  },
  {
   "cell_type": "code",
   "execution_count": 6,
   "metadata": {
    "collapsed": false
   },
   "outputs": [
    {
     "data": {
      "text/plain": []
     },
     "execution_count": 6,
     "metadata": {},
     "output_type": "execute_result"
    },
    {
     "data": {
      "image/png": "[encoded data removed]"
     },
     "metadata": {},
     "output_type": "display_data"
    }
   ],
   "source": [
    "library(ggplot2)\n",
    "qplot(y, geom = \"histogram\", binwidth = 10)"
   ]
  },
  {
   "cell_type": "markdown",
   "metadata": {},
   "source": [
    "We know that $y$ is normally distributed, with mean $\\mu$ and variance $\\sigma^2$:\n",
    "\n",
    "$$ y \\sim Normal(\\mu, \\sigma^2)$$\n",
    "\n",
    "Keep in mind that we are only trying to estimate $\\mu$ in order to keep things simple. \n",
    "\n",
    "> NOTE: in Jags, the normal distribution parameterizes the Normal distribution using the precision $\\tau$, which is the inverse of the variance $\\sigma^2$\n",
    "\n",
    "Therefore, in Jags we would write:\n",
    "\n",
    "``` R \n",
    "y ~ Normal(mu, 1/sigma^2)\n",
    "```\n",
    "\n",
    "In fact, we can define `tau` like this:\n",
    "\n",
    "``` R\n",
    "tau <- pow(sigma, -2)\n",
    "```\n",
    "where `sd` is the standard deviation."
   ]
  },
  {
   "cell_type": "markdown",
   "metadata": {},
   "source": [
    "## Load package"
   ]
  },
  {
   "cell_type": "markdown",
   "metadata": {},
   "source": [
    "First, we have to load the the relevant R packages."
   ]
  },
  {
   "cell_type": "code",
   "execution_count": 4,
   "metadata": {
    "collapsed": false
   },
   "outputs": [
    {
     "name": "stderr",
     "output_type": "stream",
     "text": [
      "\n",
      "Attaching package: ‘dplyr’\n",
      "\n",
      "The following object is masked from ‘package:stats’:\n",
      "\n",
      "    filter\n",
      "\n",
      "The following objects are masked from ‘package:base’:\n",
      "\n",
      "    intersect, setdiff, setequal, union\n",
      "\n",
      "Loading required package: rjags\n",
      "Loading required package: coda\n",
      "Loading required package: lattice\n",
      "Linked to JAGS 3.4.0\n",
      "Loaded modules: basemod,bugs\n",
      "\n",
      "Attaching package: ‘R2jags’\n",
      "\n",
      "The following object is masked from ‘package:coda’:\n",
      "\n",
      "    traceplot\n",
      "\n",
      "Loading required package: ggplot2\n"
     ]
    }
   ],
   "source": [
    "library(dplyr)\n",
    "library(tidyr)\n",
    "library(R2jags)\n",
    "library(ggmcmc)"
   ]
  },
  {
   "cell_type": "markdown",
   "metadata": {},
   "source": [
    "## Model specification"
   ]
  },
  {
   "cell_type": "code",
   "execution_count": 15,
   "metadata": {
    "collapsed": true
   },
   "outputs": [],
   "source": [
    "modelstr <- \"\n",
    "model{\n",
    "  for (i in 1:n_obs) { \n",
    "    y[i] ~ dnorm(mu, tau)\n",
    "    }\n",
    "\n",
    "    mu ~ dnorm(0, 1e-03) # prior\n",
    "\n",
    "    sigma <- 15\n",
    "    tau <- pow(sigma, -2) # 1/(sigma*sigma)\n",
    "}\""
   ]
  },
  {
   "cell_type": "code",
   "execution_count": 16,
   "metadata": {
    "collapsed": true
   },
   "outputs": [],
   "source": [
    "jagsdata <- list(y = y,\n",
    "                n_obs = length(y))"
   ]
  },
  {
   "cell_type": "code",
   "execution_count": 9,
   "metadata": {
    "collapsed": true
   },
   "outputs": [],
   "source": [
    "inits <- function() {\n",
    "    list(mu = rnorm(1, 1, 1))\n",
    "    }"
   ]
  },
  {
   "cell_type": "code",
   "execution_count": 10,
   "metadata": {
    "collapsed": true
   },
   "outputs": [],
   "source": [
    "parameters = \"mu\""
   ]
  },
  {
   "cell_type": "code",
   "execution_count": 12,
   "metadata": {
    "collapsed": false
   },
   "outputs": [
    {
     "name": "stdout",
     "output_type": "stream",
     "text": [
      "Compiling model graph\n",
      "   Resolving undeclared variables\n",
      "   Allocating nodes\n",
      "   Graph Size: 28\n",
      "\n",
      "Initializing model\n",
      "\n"
     ]
    }
   ],
   "source": [
    "fit <- jags(data = jagsdata, model.file = textConnection(modelstr), \n",
    "             inits = inits, n.chains = 2,\n",
    "             n.iter = 2000, n.thin = 2,n.burnin = 100,\n",
    "             parameters.to.save = parameters)"
   ]
  },
  {
   "cell_type": "code",
   "execution_count": 13,
   "metadata": {
    "collapsed": false,
    "scrolled": true
   },
   "outputs": [
    {
     "name": "stdout",
     "output_type": "stream",
     "text": [
      "Inference for Bugs model at \"5\", fit using jags,\n",
      " 2 chains, each with 2000 iterations (first 100 discarded), n.thin = 2\n",
      " n.sims = 1900 iterations saved\n",
      "         mu.vect sd.vect    2.5%     25%     50%     75%   97.5%  Rhat n.eff\n",
      "mu       121.062   3.326 114.398 118.929 121.087 123.289 127.359 1.001  1900\n",
      "deviance 157.853   1.607 156.735 156.846 157.246 158.157 162.535 1.001  1900\n",
      "\n",
      "For each parameter, n.eff is a crude measure of effective sample size,\n",
      "and Rhat is the potential scale reduction factor (at convergence, Rhat=1).\n",
      "\n",
      "DIC info (using the rule, pD = var(deviance)/2)\n",
      "pD = 1.3 and DIC = 159.1\n",
      "DIC is an estimate of expected predictive error (lower deviance is better).\n"
     ]
    }
   ],
   "source": [
    "print(fit)"
   ]
  },
  {
   "cell_type": "markdown",
   "metadata": {},
   "source": [
    "## Inferring the mean and standard deviation of a Normal distribution"
   ]
  },
  {
   "cell_type": "code",
   "execution_count": 17,
   "metadata": {
    "collapsed": true
   },
   "outputs": [],
   "source": [
    "modelstr <- \"\n",
    "model{\n",
    "  for (i in 1:n_obs) { \n",
    "    y[i] ~ dnorm(mu, tau)\n",
    "    }\n",
    "\n",
    "    mu ~ dnorm(0, 1e-03)\n",
    "\n",
    "    sigma ~ dunif(0, 100) # sigma must be > 0\n",
    "    tau <- pow(sigma, -2) # 1/(sigma*sigma)\n",
    "}\""
   ]
  },
  {
   "cell_type": "code",
   "execution_count": 18,
   "metadata": {
    "collapsed": true
   },
   "outputs": [],
   "source": [
    "jagsdata <- list(y = y,\n",
    "                n_obs = length(y))"
   ]
  },
  {
   "cell_type": "code",
   "execution_count": 19,
   "metadata": {
    "collapsed": false
   },
   "outputs": [],
   "source": [
    "inits <- function() {\n",
    "    list(mu = rnorm(1, 1, 1),\n",
    "         sigma = runif(1, 0, 100))\n",
    "    }"
   ]
  },
  {
   "cell_type": "code",
   "execution_count": 20,
   "metadata": {
    "collapsed": true
   },
   "outputs": [],
   "source": [
    "parameters = c(\"mu\", \"sigma\")"
   ]
  },
  {
   "cell_type": "code",
   "execution_count": 21,
   "metadata": {
    "collapsed": false
   },
   "outputs": [
    {
     "name": "stdout",
     "output_type": "stream",
     "text": [
      "Compiling model graph\n",
      "   Resolving undeclared variables\n",
      "   Allocating nodes\n",
      "   Graph Size: 29\n",
      "\n",
      "Initializing model\n",
      "\n"
     ]
    }
   ],
   "source": [
    "fit <- jags(data = jagsdata, model.file = textConnection(modelstr), \n",
    "             inits = inits, n.chains = 2,\n",
    "             n.iter = 2000, n.thin = 2,n.burnin = 100,\n",
    "             parameters.to.save = parameters)"
   ]
  },
  {
   "cell_type": "code",
   "execution_count": 22,
   "metadata": {
    "collapsed": false
   },
   "outputs": [
    {
     "name": "stdout",
     "output_type": "stream",
     "text": [
      "Inference for Bugs model at \"6\", fit using jags,\n",
      " 2 chains, each with 2000 iterations (first 100 discarded), n.thin = 2\n",
      " n.sims = 1900 iterations saved\n",
      "         mu.vect sd.vect    2.5%     25%     50%     75%   97.5%  Rhat n.eff\n",
      "mu       121.258   2.934 115.242 119.423 121.295 123.157 126.720 1.001  1900\n",
      "sigma     12.580   2.197   9.219  11.017  12.264  13.785  17.922 1.001  1900\n",
      "deviance 156.620   2.455 154.338 154.952 155.842 157.346 163.347 1.005   940\n",
      "\n",
      "For each parameter, n.eff is a crude measure of effective sample size,\n",
      "and Rhat is the potential scale reduction factor (at convergence, Rhat=1).\n",
      "\n",
      "DIC info (using the rule, pD = var(deviance)/2)\n",
      "pD = 3.0 and DIC = 159.6\n",
      "DIC is an estimate of expected predictive error (lower deviance is better).\n"
     ]
    }
   ],
   "source": [
    "print(fit)"
   ]
  },
  {
   "cell_type": "markdown",
   "metadata": {},
   "source": [
    "## Repeated IQ measurement"
   ]
  },
  {
   "cell_type": "code",
   "execution_count": 23,
   "metadata": {
    "collapsed": false
   },
   "outputs": [
    {
     "data": {
      "text/plain": [
       " [1] 114 110 104 107  98 101 108 110 104 116"
      ]
     },
     "execution_count": 23,
     "metadata": {},
     "output_type": "execute_result"
    }
   ],
   "source": [
    "true_iq <- 110\n",
    "sd <- 5\n",
    "n_subjects <- 10\n",
    "person_iq <- round(rnorm(n_subjects, mean = true_iq, sd = sd))\n",
    "person_iq"
   ]
  },
  {
   "cell_type": "code",
   "execution_count": 24,
   "metadata": {
    "collapsed": true
   },
   "outputs": [],
   "source": [
    "measure_iq <- function(x, sd = 2, n_rep = 3) {\n",
    "    round(rnorm(n_rep, x, sd))\n",
    "}"
   ]
  },
  {
   "cell_type": "code",
   "execution_count": 25,
   "metadata": {
    "collapsed": false
   },
   "outputs": [
    {
     "data": {
      "text/plain": [
       "  subject  iq subj_idx\n",
       "1   subj1 113        1\n",
       "2   subj1 113        1\n",
       "3   subj1 116        1\n",
       "4   subj2 111        2\n",
       "5   subj2 107        2\n",
       "6   subj2 108        2"
      ]
     },
     "execution_count": 25,
     "metadata": {},
     "output_type": "execute_result"
    }
   ],
   "source": [
    "df <- data.frame(sapply(X = person_iq, FUN = measure_iq , n_rep = 3))\n",
    "colnames(df) <- c(paste(\"subj\", 1:n_subjects, sep = \"\"))\n",
    "df <- df %>% gather(subject, iq)\n",
    "\n",
    "df$subj_idx <- match(df$subject, unique(df$subject))\n",
    "df %>% head"
   ]
  },
  {
   "cell_type": "code",
   "execution_count": 26,
   "metadata": {
    "collapsed": true
   },
   "outputs": [],
   "source": [
    "modelstr <- \"\n",
    "model{\n",
    "    for (i in 1:n_obs) { \n",
    "      y[i] ~ dnorm(mu[subject[i]], tau)\n",
    "    }\n",
    "    \n",
    "    for (k in 1:n_subjects) { \n",
    "      mu[k] ~ dnorm(100, 1e-02)\n",
    "    }\n",
    "    \n",
    "    sigma ~ dunif(0, 10) # sigma must be > 0\n",
    "    tau <- pow(sigma, -2) # 1/(sigma*sigma)\n",
    "}\""
   ]
  },
  {
   "cell_type": "code",
   "execution_count": 27,
   "metadata": {
    "collapsed": true
   },
   "outputs": [],
   "source": [
    "jagsdata <- list(y = df$iq,\n",
    "                 subject = df$subj_idx,\n",
    "                 n_subjects = length(unique(df$subj_idx)),\n",
    "                 n_obs = length(df$iq))"
   ]
  },
  {
   "cell_type": "code",
   "execution_count": 28,
   "metadata": {
    "collapsed": true
   },
   "outputs": [],
   "source": [
    "inits <- function() {\n",
    "    list(mu = rnorm(jagsdata$n_subjects, 1, 1),\n",
    "         sigma = runif(1, 0, 10))\n",
    "    }"
   ]
  },
  {
   "cell_type": "code",
   "execution_count": 29,
   "metadata": {
    "collapsed": true
   },
   "outputs": [],
   "source": [
    "parameters = c(\"mu\", \"sigma\")"
   ]
  },
  {
   "cell_type": "code",
   "execution_count": 30,
   "metadata": {
    "collapsed": false
   },
   "outputs": [
    {
     "name": "stdout",
     "output_type": "stream",
     "text": [
      "Compiling model graph\n",
      "   Resolving undeclared variables\n",
      "   Allocating nodes\n",
      "   Graph Size: 80\n",
      "\n",
      "Initializing model\n",
      "\n"
     ]
    }
   ],
   "source": [
    "fit <- jags(data = jagsdata, model.file = textConnection(modelstr), \n",
    "             inits = inits, n.chains = 2,\n",
    "             n.iter = 2000, n.thin = 2,n.burnin = 100,\n",
    "             parameters.to.save = parameters)"
   ]
  },
  {
   "cell_type": "code",
   "execution_count": 186,
   "metadata": {
    "collapsed": false
   },
   "outputs": [
    {
     "name": "stdout",
     "output_type": "stream",
     "text": [
      "Inference for Bugs model at \"4\", fit using jags,\n",
      " 2 chains, each with 2000 iterations (first 100 discarded), n.thin = 2\n",
      " n.sims = 1900 iterations saved\n",
      "         mu.vect sd.vect    2.5%     25%     50%     75%   97.5%  Rhat n.eff\n",
      "mu[1]    110.191   1.282 107.668 109.355 110.216 111.014 112.668 1.001  1900\n",
      "mu[2]    105.518   1.247 103.004 104.693 105.536 106.380 107.943 1.006   290\n",
      "mu[3]    114.097   1.264 111.650 113.243 114.088 114.875 116.608 1.000  1900\n",
      "mu[4]    115.711   1.293 113.007 114.904 115.737 116.547 118.212 1.002  1300\n",
      "mu[5]    115.081   1.249 112.569 114.291 115.091 115.849 117.614 1.001  1800\n",
      "mu[6]    115.413   1.233 112.843 114.586 115.424 116.224 117.917 1.003   580\n",
      "mu[7]    109.881   1.241 107.299 109.079 109.920 110.729 112.232 1.005  1100\n",
      "mu[8]    105.601   1.231 103.139 104.820 105.604 106.388 107.976 1.001  1900\n",
      "mu[9]    109.832   1.230 107.371 109.015 109.841 110.635 112.229 1.000  1900\n",
      "mu[10]   111.133   1.287 108.622 110.324 111.150 111.920 113.698 1.002  1900\n",
      "sigma      2.149   0.383   1.541   1.882   2.100   2.372   3.019 1.005   360\n",
      "deviance 128.869   6.474 119.134 124.131 127.890 132.561 143.717 1.004   410\n",
      "\n",
      "For each parameter, n.eff is a crude measure of effective sample size,\n",
      "and Rhat is the potential scale reduction factor (at convergence, Rhat=1).\n",
      "\n",
      "DIC info (using the rule, pD = var(deviance)/2)\n",
      "pD = 20.9 and DIC = 149.8\n",
      "DIC is an estimate of expected predictive error (lower deviance is better).\n"
     ]
    }
   ],
   "source": [
    "print(fit)"
   ]
  },
  {
   "cell_type": "markdown",
   "metadata": {},
   "source": [
    "## Hierarchical example: repeated IQ measurements"
   ]
  },
  {
   "cell_type": "code",
   "execution_count": 31,
   "metadata": {
    "collapsed": true
   },
   "outputs": [],
   "source": [
    "modelstr <- \"\n",
    "model{\n",
    "    for (i in 1:n_obs) { \n",
    "      y[i] ~ dnorm(mu[subject[i]], tau)\n",
    "    }\n",
    "    \n",
    "    for (k in 1:n_subjects) { \n",
    "      mu[k] ~ dnorm(group_mu, group_tau)\n",
    "    }\n",
    "    \n",
    "    group_mu ~ dnorm(100, 1e-02)\n",
    "    group_sigma ~ dunif(0, 10)\n",
    "    group_tau <- pow(group_sigma, -2)\n",
    "\n",
    "    sigma ~ dunif(0, 100) # sigma must be > 0\n",
    "    tau <- pow(sigma, -2) # 1/(sigma*sigma)\n",
    "}\""
   ]
  },
  {
   "cell_type": "code",
   "execution_count": 32,
   "metadata": {
    "collapsed": true
   },
   "outputs": [],
   "source": [
    "jagsdata <- list(y = df$iq,\n",
    "                 subject = df$subj_idx,\n",
    "                 n_subjects = length(unique(df$subj_idx)),\n",
    "                 n_obs = length(df$iq))"
   ]
  },
  {
   "cell_type": "code",
   "execution_count": 33,
   "metadata": {
    "collapsed": true
   },
   "outputs": [],
   "source": [
    "inits <- function() {\n",
    "    list(group_mu = rnorm(1, 100, 15),\n",
    "         group_sigma = runif(1, 0, 10),\n",
    "         sigma = runif(1, 0, 100))\n",
    "}"
   ]
  },
  {
   "cell_type": "code",
   "execution_count": 34,
   "metadata": {
    "collapsed": true
   },
   "outputs": [],
   "source": [
    "parameters = c(\"group_mu\", \"group_sigma\", \"mu\", \"sigma\")"
   ]
  },
  {
   "cell_type": "code",
   "execution_count": 35,
   "metadata": {
    "collapsed": false
   },
   "outputs": [
    {
     "name": "stdout",
     "output_type": "stream",
     "text": [
      "Compiling model graph\n",
      "   Resolving undeclared variables\n",
      "   Allocating nodes\n",
      "   Graph Size: 83\n",
      "\n",
      "Initializing model\n",
      "\n"
     ]
    }
   ],
   "source": [
    "fit <- jags(data = jagsdata, model.file = textConnection(modelstr), \n",
    "             inits = inits, n.chains = 2,\n",
    "             n.iter = 2000, n.thin = 2,n.burnin = 100,\n",
    "             parameters.to.save = parameters)"
   ]
  },
  {
   "cell_type": "code",
   "execution_count": 192,
   "metadata": {
    "collapsed": false
   },
   "outputs": [
    {
     "name": "stdout",
     "output_type": "stream",
     "text": [
      "Inference for Bugs model at \"5\", fit using jags,\n",
      " 2 chains, each with 2000 iterations (first 100 discarded), n.thin = 2\n",
      " n.sims = 1900 iterations saved\n",
      "            mu.vect sd.vect    2.5%     25%     50%     75%   97.5%  Rhat n.eff\n",
      "group_mu    111.211   1.468 108.300 110.323 111.237 112.102 114.103 1.007  1900\n",
      "group_sigma   4.359   1.344   2.459   3.409   4.111   5.019   7.954 1.004  1800\n",
      "mu[1]       110.422   1.179 108.132 109.638 110.434 111.213 112.708 1.000  1900\n",
      "mu[2]       106.221   1.196 103.953 105.418 106.185 106.986 108.628 1.001  1900\n",
      "mu[3]       114.008   1.212 111.558 113.207 114.006 114.823 116.327 1.001  1900\n",
      "mu[4]       115.615   1.236 113.148 114.841 115.668 116.404 118.022 1.001  1900\n",
      "mu[5]       114.952   1.214 112.476 114.180 114.973 115.748 117.261 1.000  1900\n",
      "mu[6]       115.280   1.214 112.827 114.529 115.306 116.080 117.722 1.003   710\n",
      "mu[7]       110.084   1.187 107.778 109.272 110.074 110.867 112.470 1.000  1900\n",
      "mu[8]       106.177   1.245 103.773 105.317 106.162 106.945 108.745 1.001  1900\n",
      "mu[9]       110.133   1.168 107.834 109.362 110.156 110.888 112.429 1.001  1900\n",
      "mu[10]      111.328   1.167 109.001 110.563 111.336 112.095 113.651 1.003   640\n",
      "sigma         2.117   0.381   1.542   1.848   2.053   2.322   3.037 1.002  1900\n",
      "deviance    128.461   6.431 118.757 123.817 127.433 132.047 143.897 1.001  1900\n",
      "\n",
      "For each parameter, n.eff is a crude measure of effective sample size,\n",
      "and Rhat is the potential scale reduction factor (at convergence, Rhat=1).\n",
      "\n",
      "DIC info (using the rule, pD = var(deviance)/2)\n",
      "pD = 20.7 and DIC = 149.1\n",
      "DIC is an estimate of expected predictive error (lower deviance is better).\n"
     ]
    }
   ],
   "source": [
    "print(fit)"
   ]
  },
  {
   "cell_type": "code",
   "execution_count": 197,
   "metadata": {
    "collapsed": false
   },
   "outputs": [
    {
     "data": {
      "text/plain": []
     },
     "execution_count": 197,
     "metadata": {},
     "output_type": "execute_result"
    },
    {
     "data": {
      "image/png": "[encoded data removed]"
     },
     "metadata": {},
     "output_type": "display_data"
    }
   ],
   "source": [
    "ggs_caterpillar(ggs(as.mcmc(fit)), family = \"mu\")"
   ]
  }
 ],
 "metadata": {
  "kernelspec": {
   "display_name": "R",
   "language": "",
   "name": "ir"
  },
  "language_info": {
   "codemirror_mode": "r",
   "file_extension": ".r",
   "mimetype": "text/x-r-source",
   "name": "R",
   "pygments_lexer": "r"
  }
 },
 "nbformat": 4,
 "nbformat_minor": 0
}
