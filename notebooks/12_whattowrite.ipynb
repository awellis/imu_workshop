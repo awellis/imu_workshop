{
 "cells": [
  {
   "cell_type": "markdown",
   "metadata": {},
   "source": [
    "## Interpret and write about the Bayes factor\n",
    "\n",
    "###Example\n",
    "\n",
    "In order to assess the evidence for the effects of puzzle shape and color, we computed the Bayes factors comparing various linear models either including or excluding the effects of interest. The Bayes factor is a model comparison statistic interpreted as the multiplicative degree to which the data change the relative odds between two models. It is directly interpretable as a relative measure of statistical evidence. A Bayes factor of 1 means that the data do not discriminate between the two models, while a Bayes factor of 10 indicates that the data caused the odds in favor of one of the two models to shift by a factor of 10.\n",
    "\n",
    "All Bayes factors were computed using version 0.9.2 of the BayesFactor R package (Morey & Rouder, 2012); see Rouder et al (2012) for model details. Bayes factors were computed using the default prior settings in BayesFactor (\"medium\" prior scale for fixed effects, and \"nuisance\" prior scale for the participant effect).\n",
    "\n",
    "All restrictions of the full model, with all two-way interactions, were considered. The main effect of participant was considered a nuisance effect, and was therefore not tested. It was included in all model analysis, and all models were considered relative to the null model that included only the participant effect. The model with the highest Bayes factor was the model with only main effects of shape, color, and participant. This main effects model was preferred by a factor of 2.7 over the interaction model, which had the next highest Bayes factor. The main-effects model outperformed the models where the main effects of shape or color were removed by factors of 4 and 5, respectively. The main effects model was preferred to the model with only a participant effect by a factor of 12. These results indicate that the shape and color appear to have an effect on puzzle completion time, there is no evidence that these two factors interact."
   ]
  },
  {
   "cell_type": "markdown",
   "metadata": {},
   "source": [
    "## Some suggestions by Richard Morey\n",
    "\n",
    "- Make sure you cite the package and the version number\n",
    "- Do one of two things:\n",
    "  - Say you used the default settings\n",
    "  - Explain the prior settings you used\n",
    "\n",
    "- Don't be defensive. Techniques are now encouraged by many guidelines.\n",
    "- You don't have to include p values. \n",
    "- Null hypothesis significance testing is going out of style."
   ]
  }
 ],
 "metadata": {
  "language_info": {
   "codemirror_mode": "r",
   "file_extension": ".r",
   "mimetype": "text/x-r-source",
   "name": "R",
   "pygments_lexer": "r"
  }
 },
 "nbformat": 4,
 "nbformat_minor": 0
}
