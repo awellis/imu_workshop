{
 "cells": [
  {
   "cell_type": "markdown",
   "metadata": {},
   "source": [
    "# Course outline"
   ]
  },
  {
   "cell_type": "markdown",
   "metadata": {},
   "source": [
    "> Day 1: BayesFactor package (based on Richard Morey's workshop)\n",
    "\n",
    "> Day 2: Intro to Jags, parameter estimation, model comparison, Savage-Dickey"
   ]
  },
  {
   "cell_type": "markdown",
   "metadata": {},
   "source": [
    "## Day one:"
   ]
  },
  {
   "cell_type": "markdown",
   "metadata": {},
   "source": [
    "1) [Introduction to Bayesian analysis](basics_of_bayesian_analysis.ipynb)\n",
    "\n",
    "2) "
   ]
  },
  {
   "cell_type": "markdown",
   "metadata": {},
   "source": [
    "## Day two:"
   ]
  },
  {
   "cell_type": "markdown",
   "metadata": {},
   "source": [
    "1) Using Jags cont'd\n",
    "\n",
    "2) Linear regression\n",
    "\n",
    "3) Robust linear regression\n",
    "\n",
    "4) Coin flip cont'd"
   ]
  },
  {
   "cell_type": "markdown",
   "metadata": {
    "collapsed": true
   },
   "source": [
    "## <span style=\"color:green\"> Better programme </span>"
   ]
  },
  {
   "cell_type": "markdown",
   "metadata": {},
   "source": [
    "in preparation:\n",
    "\n",
    "read Richard Morey's [blog](http://bayesfactor.blogspot.co.uk/2014/02/the-bayesfactor-package-this-blog-is.html)"
   ]
  },
  {
   "cell_type": "markdown",
   "metadata": {},
   "source": [
    "<span style=\"color:green\"> Day 1: anova example (disgust), how to compute BF using BayesFactor package, maybe use JASP </span>\n",
    "\n",
    " <span style=\"color:blue\">Day 2: flexible model building using Jags </span>"
   ]
  },
  {
   "cell_type": "markdown",
   "metadata": {},
   "source": [
    "Specific programme:\n",
    "\n",
    "> NHST: In NHST, the researcher imagines repeatedly running the intended experi- ment on a hypothetical population for which the null value is true. The samples of data from the simulated repeated experi- ments yield a distribution of predictions from the null hypoth- esis. If the single real set of data falls in the extreme tails of the predictions from the null, then the null hypothesis is rejected, because the probability of getting such an extreme result from the null hypothesis is small.\n",
    "\n",
    "\n",
    "- an introduction to bayesian inference\n",
    "- simple example using Jags (bernoulli / normal)\n",
    "\n",
    "> may a short intro to Jags using example from BUGS book? Or Lee/Wagenmakers? \n",
    "> explain how MCMC works in 5 mins?\n",
    "\n",
    "- maybe exact analysis (Conjugate priors)\n",
    "Here, we concentrate on parameter estimation\n",
    "\n",
    "then, move to model comparison. Introduce **Bayes factors**.\n",
    "\n",
    "\n",
    "Motivate the use of bayes factor:\n",
    "\n",
    "- ability to specify evidence for $H_0$\n",
    "- ability to specify alternative hypothesis\n",
    "\n",
    "- show simple way to get BF > BayesFactor package > JASP\n",
    "\n",
    "- move to more complex models > now what?\n",
    "\n",
    "- show flexible model building using Jags\n",
    "\n",
    "- show parameter estimation again\n",
    "- show how to calculate BF using Savage-Dickey\n",
    "\n",
    "\n",
    "\n"
   ]
  },
  {
   "cell_type": "code",
   "execution_count": null,
   "metadata": {
    "collapsed": true
   },
   "outputs": [],
   "source": [
    "    "
   ]
  }
 ],
 "metadata": {
  "kernelspec": {
   "display_name": "Julia",
   "name": "julia"
  },
  "language_info": {
   "name": "julia",
   "version": "0.3.5"
  }
 },
 "nbformat": 4,
 "nbformat_minor": 0
}
