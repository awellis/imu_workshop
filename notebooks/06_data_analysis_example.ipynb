{
 "cells": [
  {
   "cell_type": "markdown",
   "metadata": {},
   "source": [
    "# Chicken Weights by Feed Type\n",
    "\n",
    "## Description\n",
    "\n",
    "An experiment was conducted to measure and compare the effectiveness of various feed supplements on the growth rate of chickens.\n",
    "\n",
    "## Format\n",
    "\n",
    "A data frame with 71 observations on the following 2 variables.\n",
    "\n",
    "- weight: a numeric variable giving the chick weight.\n",
    "\n",
    "- feed: a factor giving the feed type.\n",
    "\n",
    "## Details\n",
    "\n",
    "Newly hatched chicks were randomly allocated into six groups, and each group was given a different feed supplement. Their weights in grams after six weeks are given along with feed types.\n",
    "\n",
    "This dataset is built-in. You can load it with the command \n",
    "\n",
    "`data(chickwts)`\n"
   ]
  },
  {
   "cell_type": "code",
   "execution_count": 2,
   "metadata": {
    "collapsed": false
   },
   "outputs": [],
   "source": [
    "library(dplyr)\n",
    "library(R2jags)\n",
    "\n",
    "data(chickwts)"
   ]
  },
  {
   "cell_type": "code",
   "execution_count": 2,
   "metadata": {
    "collapsed": false
   },
   "outputs": [
    {
     "data": {
      "text/plain": [
       "Source: local data frame [2 x 3]\n",
       "\n",
       "       feed   mean       sd\n",
       "1 horsebean 160.20 38.62584\n",
       "2   linseed 218.75 52.23570"
      ]
     },
     "execution_count": 2,
     "metadata": {},
     "output_type": "execute_result"
    },
    {
     "data": {
      "image/png": "[encoded data removed]"
     },
     "metadata": {},
     "output_type": "display_data"
    }
   ],
   "source": [
    "## Restrict to two groups\n",
    "chickwts <- chickwts %>% filter(feed %in% c(\"horsebean\", \"linseed\"))\n",
    "\n",
    "## Drop unused factor levels\n",
    "chickwts$feed = factor(chickwts$feed)\n",
    "\n",
    "\n",
    "chickwts %>% group_by(feed) %>%\n",
    "    summarise(mean = mean(weight),\n",
    "              sd = sd(weight))\n",
    "\n",
    "## Plot data\n",
    "plot(weight ~ feed, data = chickwts, main = \"Chick weights\")"
   ]
  },
  {
   "cell_type": "code",
   "execution_count": 30,
   "metadata": {
    "collapsed": false
   },
   "outputs": [
    {
     "data": {
      "text/plain": [
       "\n",
       "\tTwo Sample t-test\n",
       "\n",
       "data:  weight by feed\n",
       "t = -2.934, df = 20, p-value = 0.008205\n",
       "alternative hypothesis: true difference in means is not equal to 0\n",
       "95 percent confidence interval:\n",
       " -100.17618  -16.92382\n",
       "sample estimates:\n",
       "mean in group horsebean   mean in group linseed \n",
       "                 160.20                  218.75 \n"
      ]
     },
     "execution_count": 30,
     "metadata": {},
     "output_type": "execute_result"
    }
   ],
   "source": [
    "## traditional t test\n",
    "t.test(weight ~ feed, data = chickwts, var.eq=TRUE)"
   ]
  },
  {
   "cell_type": "code",
   "execution_count": 4,
   "metadata": {
    "collapsed": false
   },
   "outputs": [
    {
     "data": {
      "text/plain": [
       "  weight      feed feed_ix\n",
       "1    179 horsebean       1\n",
       "2    160 horsebean       1\n",
       "3    136 horsebean       1\n",
       "4    227 horsebean       1\n",
       "5    217 horsebean       1\n",
       "6    168 horsebean       1"
      ]
     },
     "execution_count": 4,
     "metadata": {},
     "output_type": "execute_result"
    },
    {
     "data": {
      "text/plain": [
       "   weight    feed feed_ix\n",
       "17    148 linseed       2\n",
       "18    169 linseed       2\n",
       "19    213 linseed       2\n",
       "20    257 linseed       2\n",
       "21    244 linseed       2\n",
       "22    271 linseed       2"
      ]
     },
     "execution_count": 4,
     "metadata": {},
     "output_type": "execute_result"
    }
   ],
   "source": [
    "## create index variable for Jags\n",
    "chickwts$feed_ix <- match(chickwts$feed, unique(chickwts$feed))\n",
    "head(chickwts)\n",
    "tail(chickwts)"
   ]
  },
  {
   "cell_type": "code",
   "execution_count": 7,
   "metadata": {
    "collapsed": true
   },
   "outputs": [],
   "source": [
    "modelstr <- \"\n",
    "model {\n",
    " for (i in 1:n_obs) {\n",
    "    y[i] ~ dnorm(mu[i], tau)\n",
    "\n",
    "    mu[i] <- beta[feed[i]]\n",
    "  }\n",
    "  for (j in 1:2) {\n",
    "  beta[j] ~ dnorm(0, 1e-03)\n",
    "  }\n",
    "\n",
    "  tau <- pow(sigma, -2)\n",
    "  sigma ~ dunif(0, 60)\n",
    "\n",
    "  # contrast\n",
    "  difference <- beta[1] - beta[2]\n",
    "}\""
   ]
  },
  {
   "cell_type": "code",
   "execution_count": 8,
   "metadata": {
    "collapsed": true
   },
   "outputs": [],
   "source": [
    "jagsdata <- list(y = chickwts$weight,\n",
    "                 feed = chickwts$feed_ix,\n",
    "                 n_obs = length(chickwts$weight))\n",
    "\n",
    "inits <- function() {\n",
    "    list(beta = rnorm(2, 0, 100))\n",
    "}\n",
    "\n",
    "parameters = c(\"beta\", \"difference\", \"sigma\")"
   ]
  },
  {
   "cell_type": "code",
   "execution_count": 10,
   "metadata": {
    "collapsed": false
   },
   "outputs": [
    {
     "name": "stdout",
     "output_type": "stream",
     "text": [
      "Compiling model graph\n",
      "   Resolving undeclared variables\n",
      "   Allocating nodes\n",
      "   Graph Size: 55\n",
      "\n",
      "Initializing model\n",
      "\n",
      "Inference for Bugs model at \"5\", fit using jags,\n",
      " 2 chains, each with 2000 iterations (first 100 discarded), n.thin = 2\n",
      " n.sims = 1900 iterations saved\n",
      "           mu.vect sd.vect    2.5%     25%     50%     75%   97.5%  Rhat n.eff\n",
      "beta[1]    124.127  15.597  91.489 114.207 124.780 134.542 154.330 1.002   830\n",
      "beta[2]    175.658  15.183 146.264 165.559 175.794 186.212 205.022 1.001  1900\n",
      "difference -51.531  20.463 -92.302 -65.110 -52.209 -37.917  -9.808 1.001  1700\n",
      "sigma       54.072   4.636  43.152  51.352  55.085  57.882  59.774 1.002  1600\n",
      "deviance   244.605   6.734 233.933 239.838 243.673 248.690 259.736 1.002  1300\n",
      "\n",
      "For each parameter, n.eff is a crude measure of effective sample size,\n",
      "and Rhat is the potential scale reduction factor (at convergence, Rhat=1).\n",
      "\n",
      "DIC info (using the rule, pD = var(deviance)/2)\n",
      "pD = 22.7 and DIC = 267.3\n",
      "DIC is an estimate of expected predictive error (lower deviance is better).\n"
     ]
    }
   ],
   "source": [
    "fit <- jags(data = jagsdata, model.file = textConnection(modelstr),\n",
    "            inits = inits, n.chains = 2,\n",
    "            n.iter = 2000, n.thin = 2,n.burnin = 100,\n",
    "            parameters.to.save = parameters)\n",
    "print(fit)"
   ]
  },
  {
   "cell_type": "code",
   "execution_count": null,
   "metadata": {
    "collapsed": true
   },
   "outputs": [],
   "source": []
  }
 ],
 "metadata": {
  "kernelspec": {
   "display_name": "R",
   "language": "",
   "name": "ir"
  },
  "language_info": {
   "codemirror_mode": "r",
   "file_extension": ".r",
   "mimetype": "text/x-r-source",
   "name": "R",
   "pygments_lexer": "r"
  }
 },
 "nbformat": 4,
 "nbformat_minor": 0
}
