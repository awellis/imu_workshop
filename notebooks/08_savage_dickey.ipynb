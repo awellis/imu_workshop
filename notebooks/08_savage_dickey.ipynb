{
 "cells": [
  {
   "cell_type": "markdown",
   "metadata": {},
   "source": [
    "# The Savage-Dickey Method"
   ]
  },
  {
   "cell_type": "markdown",
   "metadata": {},
   "source": [
    "This method can be employed when we perform \"classical\" hypothesis testing: \n",
    "\n",
    "This means that we consider two models; one is these is the \"null\" hypothesis that fixes one of the parameters to a specified value (e.g. $\\mathcal{H_0}: \\theta = 0$), the other model is the alternative hypothesis, under which the parater is free to vary (e.g. $\\mathcal{H_1}: \\theta \\neq 0$).\n",
    "\n",
    "In this case, the null model is **nested** under the alternative model.\n",
    "\n",
    "This is exaclty what we did in our previous binomial example: the guessing model fixed the binomial rate parameter ($\\theta = 0.5$), while under the alternative model, the rate parameter was free to vary ($p(\\theta) \\sim Beta(1, 1)$)."
   ]
  },
  {
   "cell_type": "markdown",
   "metadata": {
    "collapsed": true
   },
   "source": [
    "For these kinds of models, we can use a method known as the *Savage-Dickey density ratio*. This states that we can consider only the alterantive model, and then divide the height of the posterior estimate for the parameter of interest by the height of the prior, at the specified point of interest."
   ]
  },
  {
   "cell_type": "markdown",
   "metadata": {},
   "source": [
    "> TODO: \n",
    "\n",
    "- we'll use the real world example from Lee & wagemnakers\n",
    " - one sample comparison\n",
    " - two sample comparison\n",
    " \n",
    "- t-test example from Morey\n",
    " - sleep dataset?"
   ]
  },
  {
   "cell_type": "code",
   "execution_count": 2,
   "metadata": {
    "collapsed": true
   },
   "outputs": [],
   "source": []
  }
 ],
 "metadata": {
  "kernelspec": {
   "display_name": "R",
   "name": "ir"
  },
  "language_info": {
   "codemirror_mode": "r",
   "file_extension": ".r",
   "mimetype": "text/x-r-source",
   "name": "R",
   "pygments_lexer": "r"
  }
 },
 "nbformat": 4,
 "nbformat_minor": 0
}
