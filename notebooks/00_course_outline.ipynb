{
 "cells": [
  {
   "cell_type": "markdown",
   "metadata": {},
   "source": [
    "# Course outline"
   ]
  },
  {
   "cell_type": "markdown",
   "metadata": {},
   "source": [
    "## Day one:"
   ]
  },
  {
   "cell_type": "markdown",
   "metadata": {},
   "source": [
    "### Morning session"
   ]
  },
  {
   "cell_type": "markdown",
   "metadata": {},
   "source": [
    "1) Theory: [Introduction to Bayesian analysis](01_basics_of_bayesian_analysis.ipynb)\n",
    "\n",
    "2) [First steps in Jags](02_jags_intro.ipynb)\n",
    "\n",
    "3) Basic parameter estimation in Jags: [Bernoulli/Binomial](03_bernoulli_rates.ipynb) distribution\n"
   ]
  },
  {
   "cell_type": "markdown",
   "metadata": {},
   "source": [
    "### Afternoon session"
   ]
  },
  {
   "cell_type": "markdown",
   "metadata": {},
   "source": [
    "4) Basic parameter estimation in Jags:  [Normal](04_normal_mean.ipynb) distribution\n",
    " \n",
    "5) Linear regression\n",
    "\n",
    "6) Data analysis example (disgust dataset)"
   ]
  },
  {
   "cell_type": "markdown",
   "metadata": {},
   "source": [
    "## Day two:"
   ]
  },
  {
   "cell_type": "markdown",
   "metadata": {},
   "source": [
    "7) Theory: [Model comparison](07_model_comparison.ipynb)\n",
    "\n",
    "8) Theory: [Savage-Dickey method](08_savage_dickey.ipynb)\n",
    "\n",
    "9) Application: the [t-test](09_ttest.ipynb) using the Savage-Dickey method\n",
    "\n",
    "> 2 t-test examples\n",
    "\n",
    "9) Using the BayesFactor package\n",
    "\n",
    "  - t-test\n",
    "  - ANOVA\n",
    "  \n",
    "  read Richard Morey's [blog](http://bayesfactor.blogspot.co.uk/2014/02/the-bayesfactor-package-this-blog-is.html)\n",
    "  \n",
    "  - disgust example\n",
    "  \n",
    "3) Using JASP\n",
    "    - reporduce BAyesFactor examples"
   ]
  },
  {
   "cell_type": "markdown",
   "metadata": {},
   "source": [
    "## Other notebooks:"
   ]
  },
  {
   "cell_type": "markdown",
   "metadata": {},
   "source": [
    "- [Some useful probability distributions](probability_distributions.ipynb)"
   ]
  },
  {
   "cell_type": "markdown",
   "metadata": {},
   "source": [
    "## Literature"
   ]
  },
  {
   "cell_type": "markdown",
   "metadata": {},
   "source": [
    " - Lee, M. D., & Wagenmakers, E.-J. (2014). Bayesian Cognitive Modeling. Cambridge: Cambridge University Press. doi:10.1017/CBO9781139087759\n",
    "\n",
    "The first two chapters and code are available from the book's [website](http://bayesmodels.com).\n",
    "\n",
    "\n",
    "\n",
    " - Kruschke, J. (2014). Doing Bayesian Data Analysis (2nd ed.). Academic Press.\n",
    " \n",
    " See the book's [website](https://sites.google.com/site/doingbayesiandataanalysis/) for more info.\n",
    " \n",
    " \n",
    "- [BayesFactor package](http://bayesfactorpcl.r-forge.r-project.org/#mixed)"
   ]
  }
 ],
 "metadata": {
  "kernelspec": {
   "display_name": "Julia",
   "name": "julia"
  },
  "language_info": {
   "name": "julia",
   "version": "0.3.5"
  }
 },
 "nbformat": 4,
 "nbformat_minor": 0
}
