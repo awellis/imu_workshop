{
 "cells": [
  {
   "cell_type": "markdown",
   "metadata": {},
   "source": [
    "# Course outline"
   ]
  },
  {
   "cell_type": "markdown",
   "metadata": {},
   "source": [
    "All material can be found on [Github](http://github.com/awellis/imu_workshop).\n",
    "\n",
    "You will need to navigate to the notebook directory, or [go straight there](https://github.com/awellis/imu_workshop/tree/master/notebooks), and the click on the indivdual notebooks. These are IPython notebooks; to view them, you can then use the `nbviewer` extension.\n",
    "\n",
    "Alternatively, you can just access all the material [here](http://nbviewer.ipython.org/github/awellis/imu_workshop/blob/master/notebooks/00_course_outline.ipynb).\n",
    "\n",
    "The general idea is that you copy all R code into a text editor, e.g. RStudio and try everything out interactively.\n",
    "\n",
    "All the R scripts are available from [here](http://nbviewer.ipython.org/github/awellis/imu_workshop/tree/master/R).\n",
    "\n",
    "There are also some example datasets in the [data](http://nbviewer.ipython.org/github/awellis/imu_workshop/tree/master/data) directory."
   ]
  },
  {
   "cell_type": "markdown",
   "metadata": {},
   "source": [
    "## Day one:"
   ]
  },
  {
   "cell_type": "markdown",
   "metadata": {},
   "source": [
    "### Morning session"
   ]
  },
  {
   "cell_type": "markdown",
   "metadata": {},
   "source": [
    "1) Theory: [Introduction to Bayesian analysis](01_basics_of_bayesian_analysis.ipynb)\n",
    "\n",
    "2) [First steps in Jags](02_jags_intro.ipynb)\n",
    "\n",
    "3) Basic parameter estimation in Jags: [Bernoulli/Binomial](03_bernoulli_rates.ipynb) distribution\n"
   ]
  },
  {
   "cell_type": "markdown",
   "metadata": {},
   "source": [
    "### Afternoon session"
   ]
  },
  {
   "cell_type": "markdown",
   "metadata": {},
   "source": [
    "4) Basic parameter estimation in Jags:  [Normal](04_normal_mean.ipynb) distribution\n",
    " \n",
    "5) Simple [linear regression](05_linear_regression.ipynb)\n",
    "\n",
    "6) Data analysis [example](06_data_analysis_example.ipynb)"
   ]
  },
  {
   "cell_type": "markdown",
   "metadata": {},
   "source": [
    "## Day two:"
   ]
  },
  {
   "cell_type": "markdown",
   "metadata": {},
   "source": [
    "### Morning session"
   ]
  },
  {
   "cell_type": "markdown",
   "metadata": {},
   "source": [
    "7) Theory: [Model comparison](07_model_comparison.ipynb)\n",
    "\n",
    "8) ~~Theory: Savage-Dickey method~~\n",
    "\n",
    "9) ~~Application: the t-test using the Savage-Dickey method~~\n",
    "\n",
    "<!--> 2 t-test examples-->\n",
    "\n",
    "10) Using the [BayesFactor package](10_bayesfactor_package.ipynb)\n",
    "    - t-test\n",
    "    - ANOVA"
   ]
  },
  {
   "cell_type": "markdown",
   "metadata": {},
   "source": [
    "### Afternoon session"
   ]
  },
  {
   "cell_type": "markdown",
   "metadata": {},
   "source": [
    "11) Individual [practise session](11_practise.ipynb) (using BayesFactor and JASP)\n",
    "\n",
    "12) What to write in your [results](12_whattowrite.ipynb)"
   ]
  },
  {
   "cell_type": "markdown",
   "metadata": {},
   "source": [
    "## Other notebooks:"
   ]
  },
  {
   "cell_type": "markdown",
   "metadata": {},
   "source": [
    "- [Some useful probability distributions](probability_distributions.ipynb)"
   ]
  },
  {
   "cell_type": "markdown",
   "metadata": {},
   "source": [
    "## Literature"
   ]
  },
  {
   "cell_type": "markdown",
   "metadata": {},
   "source": [
    " - Lee, M. D., & Wagenmakers, E.-J. (2014). Bayesian Cognitive Modeling. Cambridge: Cambridge University Press. doi:10.1017/CBO9781139087759\n",
    "\n",
    "The first two chapters and code are available from the book's [website](http://bayesmodels.com).\n",
    "\n",
    "\n",
    "\n",
    " - Kruschke, J. (2014). Doing Bayesian Data Analysis (2nd ed.). Academic Press.\n",
    " \n",
    " See the book's [website](https://sites.google.com/site/doingbayesiandataanalysis/) for more info.\n",
    " \n",
    " \n",
    "- [BayesFactor package](http://bayesfactorpcl.r-forge.r-project.org/#mixed)"
   ]
  }
 ],
 "metadata": {
  "kernelspec": {
   "display_name": "Julia",
   "language": "julia",
   "name": "julia"
  },
  "language_info": {
   "name": "julia",
   "version": "0.3.5"
  }
 },
 "nbformat": 4,
 "nbformat_minor": 0
}
