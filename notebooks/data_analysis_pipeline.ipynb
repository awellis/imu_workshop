{
 "cells": [
  {
   "cell_type": "markdown",
   "metadata": {},
   "source": [
    "1) construct model\n",
    "\n",
    "2) check convergence etc.\n",
    "    - visual inspection\n",
    "    - statistics\n",
    "    - autocorrelation\n",
    "   \n",
    "3) Model checking\n",
    "     - sensitivity\n",
    "     - predictive accuracy & model comparison\n",
    "     - posterior predictive checking: statistical\n",
    "         - choose test statistic\n",
    "     - posterior predictive checking: graphical\n",
    "    "
   ]
  },
  {
   "cell_type": "markdown",
   "metadata": {},
   "source": [
    "## Test statistic"
   ]
  },
  {
   "cell_type": "markdown",
   "metadata": {},
   "source": [
    "> In general we can devise a test statistic, $T_{Rep}$, and associated p-value to check any particular result of interest based on the simulated data. The p-value in this context is simply the percentage of times\n",
    "the statistic of interest is equal to or more extreme than the statistic, $T_{y}$, calculated for the original data. Thus p-values near 0 or 1 are indicative of areas where the model is falling short in some fashion."
   ]
  },
  {
   "cell_type": "code",
   "execution_count": null,
   "metadata": {
    "collapsed": true
   },
   "outputs": [],
   "source": []
  }
 ],
 "metadata": {
  "kernelspec": {
   "display_name": "Julia",
   "name": "julia"
  },
  "language_info": {
   "name": "julia",
   "version": "0.3.5"
  }
 },
 "nbformat": 4,
 "nbformat_minor": 0
}
